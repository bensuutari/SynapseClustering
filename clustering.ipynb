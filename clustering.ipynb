{
 "cells": [
  {
   "cell_type": "code",
   "execution_count": 23,
   "metadata": {},
   "outputs": [],
   "source": [
    "from sklearn.cluster import KMeans\n",
    "import pandas as pd\n",
    "import os"
   ]
  },
  {
   "cell_type": "code",
   "execution_count": 24,
   "metadata": {},
   "outputs": [],
   "source": [
    "sethdata=pd.ExcelFile(os.getcwd()+\"/data/sethdata.xlsx\")"
   ]
  },
  {
   "cell_type": "code",
   "execution_count": 25,
   "metadata": {},
   "outputs": [],
   "source": [
    "df = sethdata.parse(\"synapse properties\")"
   ]
  },
  {
   "cell_type": "code",
   "execution_count": 26,
   "metadata": {},
   "outputs": [
    {
     "data": {
      "text/html": [
       "<div>\n",
       "<style scoped>\n",
       "    .dataframe tbody tr th:only-of-type {\n",
       "        vertical-align: middle;\n",
       "    }\n",
       "\n",
       "    .dataframe tbody tr th {\n",
       "        vertical-align: top;\n",
       "    }\n",
       "\n",
       "    .dataframe thead th {\n",
       "        text-align: right;\n",
       "    }\n",
       "</style>\n",
       "<table border=\"1\" class=\"dataframe\">\n",
       "  <thead>\n",
       "    <tr style=\"text-align: right;\">\n",
       "      <th></th>\n",
       "      <th>Block ID</th>\n",
       "      <th>Exp</th>\n",
       "      <th>Code</th>\n",
       "      <th>Condition</th>\n",
       "      <th>den#</th>\n",
       "      <th>zlength</th>\n",
       "      <th>syn_density</th>\n",
       "      <th>synapse</th>\n",
       "      <th>psd area</th>\n",
       "      <th>avg cross sec</th>\n",
       "      <th>...</th>\n",
       "      <th>synpos</th>\n",
       "      <th>ssvlog</th>\n",
       "      <th>ssv</th>\n",
       "      <th>ln sv</th>\n",
       "      <th>dsvlog</th>\n",
       "      <th>dsv</th>\n",
       "      <th>ln dsv</th>\n",
       "      <th>B_mitos</th>\n",
       "      <th>Unnamed: 21</th>\n",
       "      <th>Unnamed: 22</th>\n",
       "    </tr>\n",
       "  </thead>\n",
       "  <tbody>\n",
       "    <tr>\n",
       "      <th>0</th>\n",
       "      <td>JB023D</td>\n",
       "      <td>JB023</td>\n",
       "      <td>FSBQD</td>\n",
       "      <td>LTP</td>\n",
       "      <td>fsbqd_d001</td>\n",
       "      <td>13.029467</td>\n",
       "      <td>1.074488</td>\n",
       "      <td>fsbqd_d001cfa01</td>\n",
       "      <td>0.059786</td>\n",
       "      <td>0.599449</td>\n",
       "      <td>...</td>\n",
       "      <td>inter</td>\n",
       "      <td>2.962369</td>\n",
       "      <td>917.0</td>\n",
       "      <td>6.821107</td>\n",
       "      <td>0.301030</td>\n",
       "      <td>2.0</td>\n",
       "      <td>0.693147</td>\n",
       "      <td>0.0</td>\n",
       "      <td>NaN</td>\n",
       "      <td>NaN</td>\n",
       "    </tr>\n",
       "    <tr>\n",
       "      <th>1</th>\n",
       "      <td>JB023D</td>\n",
       "      <td>JB023</td>\n",
       "      <td>FSBQD</td>\n",
       "      <td>LTP</td>\n",
       "      <td>fsbqd_d001</td>\n",
       "      <td>13.029467</td>\n",
       "      <td>1.074488</td>\n",
       "      <td>fsbqd_d001cfa02</td>\n",
       "      <td>0.016827</td>\n",
       "      <td>0.599449</td>\n",
       "      <td>...</td>\n",
       "      <td>inter</td>\n",
       "      <td>2.431364</td>\n",
       "      <td>270.0</td>\n",
       "      <td>5.598422</td>\n",
       "      <td>0.000000</td>\n",
       "      <td>1.0</td>\n",
       "      <td>0.000000</td>\n",
       "      <td>0.0</td>\n",
       "      <td>NaN</td>\n",
       "      <td>NaN</td>\n",
       "    </tr>\n",
       "    <tr>\n",
       "      <th>2</th>\n",
       "      <td>JB023D</td>\n",
       "      <td>JB023</td>\n",
       "      <td>FSBQD</td>\n",
       "      <td>LTP</td>\n",
       "      <td>fsbqd_d001</td>\n",
       "      <td>13.029467</td>\n",
       "      <td>1.074488</td>\n",
       "      <td>fsbqd_d001cfa03</td>\n",
       "      <td>0.188353</td>\n",
       "      <td>0.599449</td>\n",
       "      <td>...</td>\n",
       "      <td>inter</td>\n",
       "      <td>3.240549</td>\n",
       "      <td>1740.0</td>\n",
       "      <td>7.461640</td>\n",
       "      <td>0.954243</td>\n",
       "      <td>9.0</td>\n",
       "      <td>2.197225</td>\n",
       "      <td>0.0</td>\n",
       "      <td>NaN</td>\n",
       "      <td>NaN</td>\n",
       "    </tr>\n",
       "    <tr>\n",
       "      <th>3</th>\n",
       "      <td>JB023D</td>\n",
       "      <td>JB023</td>\n",
       "      <td>FSBQD</td>\n",
       "      <td>LTP</td>\n",
       "      <td>fsbqd_d001</td>\n",
       "      <td>13.029467</td>\n",
       "      <td>1.074488</td>\n",
       "      <td>fsbqd_d001cfa04</td>\n",
       "      <td>0.045528</td>\n",
       "      <td>0.599449</td>\n",
       "      <td>...</td>\n",
       "      <td>inter</td>\n",
       "      <td>2.472756</td>\n",
       "      <td>297.0</td>\n",
       "      <td>5.693732</td>\n",
       "      <td>0.301030</td>\n",
       "      <td>2.0</td>\n",
       "      <td>0.693147</td>\n",
       "      <td>0.0</td>\n",
       "      <td>NaN</td>\n",
       "      <td>NaN</td>\n",
       "    </tr>\n",
       "    <tr>\n",
       "      <th>4</th>\n",
       "      <td>JB023D</td>\n",
       "      <td>JB023</td>\n",
       "      <td>FSBQD</td>\n",
       "      <td>LTP</td>\n",
       "      <td>fsbqd_d001</td>\n",
       "      <td>13.029467</td>\n",
       "      <td>1.074488</td>\n",
       "      <td>fsbqd_d001cfa05</td>\n",
       "      <td>0.064230</td>\n",
       "      <td>0.599449</td>\n",
       "      <td>...</td>\n",
       "      <td>inter</td>\n",
       "      <td>2.326336</td>\n",
       "      <td>212.0</td>\n",
       "      <td>5.356586</td>\n",
       "      <td>0.778151</td>\n",
       "      <td>6.0</td>\n",
       "      <td>1.791759</td>\n",
       "      <td>0.0</td>\n",
       "      <td>NaN</td>\n",
       "      <td>NaN</td>\n",
       "    </tr>\n",
       "  </tbody>\n",
       "</table>\n",
       "<p>5 rows × 23 columns</p>\n",
       "</div>"
      ],
      "text/plain": [
       "  Block ID    Exp   Code Condition        den#    zlength  syn_density  \\\n",
       "0   JB023D  JB023  FSBQD       LTP  fsbqd_d001  13.029467     1.074488   \n",
       "1   JB023D  JB023  FSBQD       LTP  fsbqd_d001  13.029467     1.074488   \n",
       "2   JB023D  JB023  FSBQD       LTP  fsbqd_d001  13.029467     1.074488   \n",
       "3   JB023D  JB023  FSBQD       LTP  fsbqd_d001  13.029467     1.074488   \n",
       "4   JB023D  JB023  FSBQD       LTP  fsbqd_d001  13.029467     1.074488   \n",
       "\n",
       "           synapse  psd area  avg cross sec     ...       synpos    ssvlog  \\\n",
       "0  fsbqd_d001cfa01  0.059786       0.599449     ...        inter  2.962369   \n",
       "1  fsbqd_d001cfa02  0.016827       0.599449     ...        inter  2.431364   \n",
       "2  fsbqd_d001cfa03  0.188353       0.599449     ...        inter  3.240549   \n",
       "3  fsbqd_d001cfa04  0.045528       0.599449     ...        inter  2.472756   \n",
       "4  fsbqd_d001cfa05  0.064230       0.599449     ...        inter  2.326336   \n",
       "\n",
       "      ssv     ln sv    dsvlog  dsv    ln dsv  B_mitos  Unnamed: 21  \\\n",
       "0   917.0  6.821107  0.301030  2.0  0.693147      0.0          NaN   \n",
       "1   270.0  5.598422  0.000000  1.0  0.000000      0.0          NaN   \n",
       "2  1740.0  7.461640  0.954243  9.0  2.197225      0.0          NaN   \n",
       "3   297.0  5.693732  0.301030  2.0  0.693147      0.0          NaN   \n",
       "4   212.0  5.356586  0.778151  6.0  1.791759      0.0          NaN   \n",
       "\n",
       "   Unnamed: 22  \n",
       "0          NaN  \n",
       "1          NaN  \n",
       "2          NaN  \n",
       "3          NaN  \n",
       "4          NaN  \n",
       "\n",
       "[5 rows x 23 columns]"
      ]
     },
     "execution_count": 26,
     "metadata": {},
     "output_type": "execute_result"
    }
   ],
   "source": [
    "df.head()"
   ]
  },
  {
   "cell_type": "code",
   "execution_count": 27,
   "metadata": {},
   "outputs": [
    {
     "data": {
      "text/plain": [
       "Index(['Block ID', 'Exp', 'Code', 'Condition', 'den#', 'zlength',\n",
       "       'syn_density', 'synapse', 'psd area', 'avg cross sec', 'axon to spine',\n",
       "       'ln psd', 'logpsd', 'synpos', 'ssvlog', 'ssv', 'ln sv', 'dsvlog', 'dsv',\n",
       "       'ln dsv', 'B_mitos', 'Unnamed: 21', 'Unnamed: 22'],\n",
       "      dtype='object')"
      ]
     },
     "execution_count": 27,
     "metadata": {},
     "output_type": "execute_result"
    }
   ],
   "source": [
    "df.keys()"
   ]
  },
  {
   "cell_type": "code",
   "execution_count": 28,
   "metadata": {},
   "outputs": [
    {
     "name": "stderr",
     "output_type": "stream",
     "text": [
      "/home/ben/anaconda3/envs/insight/lib/python3.6/site-packages/pandas/core/generic.py:4355: SettingWithCopyWarning: \n",
      "A value is trying to be set on a copy of a slice from a DataFrame\n",
      "\n",
      "See the caveats in the documentation: http://pandas.pydata.org/pandas-docs/stable/indexing.html#indexing-view-versus-copy\n",
      "  self._update_inplace(new_data)\n"
     ]
    }
   ],
   "source": [
    "dfnumeric=df[['psd area','avg cross sec']]\n",
    "for i in dfnumeric.keys():\n",
    "    dfnumeric[i].fillna((dfnumeric[i].mean()), inplace=True)"
   ]
  },
  {
   "cell_type": "code",
   "execution_count": 29,
   "metadata": {},
   "outputs": [
    {
     "name": "stdout",
     "output_type": "stream",
     "text": [
      "2\n",
      "3\n",
      "4\n",
      "5\n",
      "6\n"
     ]
    },
    {
     "data": {
      "image/png": "[encoded data removed]",
      "text/plain": [
       "<Figure size 432x288 with 1 Axes>"
      ]
     },
     "metadata": {},
     "output_type": "display_data"
    }
   ],
   "source": [
    "from sklearn.cluster import KMeans\n",
    "from sklearn import metrics\n",
    "from scipy.spatial.distance import cdist\n",
    "import numpy as np\n",
    "import matplotlib.pyplot as plt\n",
    "# k means determine k\n",
    "distortionsSethData = []\n",
    "K = [2,3,4,5,6]\n",
    "for k in K:\n",
    "    print(k)\n",
    "    kmeanModel = KMeans(n_clusters=k,init='k-means++').fit(dfnumeric)\n",
    "    distortionsSethData.append(sum(np.min(cdist(dfnumeric, kmeanModel.cluster_centers_, 'euclidean'), axis=1)) / dfnumeric.shape[0])\n",
    "\n",
    "# Plot the elbow\n",
    "plt.plot(K, distortionsSethData, 'bx-')\n",
    "plt.xlabel('k')\n",
    "plt.ylabel('Distortion')\n",
    "plt.title('Synapse Data Distortion vs K')\n",
    "plt.show()"
   ]
  },
  {
   "cell_type": "code",
   "execution_count": null,
   "metadata": {},
   "outputs": [],
   "source": []
  },
  {
   "cell_type": "code",
   "execution_count": null,
   "metadata": {},
   "outputs": [],
   "source": []
  }
 ],
 "metadata": {
  "kernelspec": {
   "display_name": "Python 3",
   "language": "python",
   "name": "python3"
  },
  "language_info": {
   "codemirror_mode": {
    "name": "ipython",
    "version": 3
   },
   "file_extension": ".py",
   "mimetype": "text/x-python",
   "name": "python",
   "nbconvert_exporter": "python",
   "pygments_lexer": "ipython3",
   "version": "3.6.4"
  }
 },
 "nbformat": 4,
 "nbformat_minor": 2
}
